{
 "cells": [
  {
   "cell_type": "code",
   "execution_count": 3,
   "metadata": {},
   "outputs": [],
   "source": [
    "import numpy as np"
   ]
  },
  {
   "cell_type": "code",
   "execution_count": 4,
   "metadata": {},
   "outputs": [
    {
     "data": {
      "text/plain": [
       "array([1, 4, 2, 5, 3])"
      ]
     },
     "execution_count": 4,
     "metadata": {},
     "output_type": "execute_result"
    }
   ],
   "source": [
    "# Array of integers:\n",
    "np.array([1,4,2,5,3])"
   ]
  },
  {
   "cell_type": "code",
   "execution_count": 5,
   "metadata": {},
   "outputs": [
    {
     "data": {
      "text/plain": [
       "array([1., 2., 3., 4.], dtype=float32)"
      ]
     },
     "execution_count": 5,
     "metadata": {},
     "output_type": "execute_result"
    }
   ],
   "source": [
    "# Create an array and manually set a type\n",
    "np.array([1, 2, 3, 4], dtype='float32')"
   ]
  },
  {
   "cell_type": "code",
   "execution_count": 6,
   "metadata": {},
   "outputs": [],
   "source": [
    "# A list of lists in converted to a 2-dimensional array\n",
    "original_list = [[1,2,3],[3,4,5],[6,7,8]]\n",
    "two_dimensional_array = np.array(original_list)"
   ]
  },
  {
   "cell_type": "code",
   "execution_count": 7,
   "metadata": {},
   "outputs": [
    {
     "data": {
      "text/plain": [
       "array([[1, 2, 3],\n",
       "       [3, 4, 5],\n",
       "       [6, 7, 8]])"
      ]
     },
     "execution_count": 7,
     "metadata": {},
     "output_type": "execute_result"
    }
   ],
   "source": [
    "two_dimensional_array"
   ]
  },
  {
   "cell_type": "code",
   "execution_count": 8,
   "metadata": {},
   "outputs": [
    {
     "data": {
      "text/plain": [
       "[[1, 2, 3], [3, 4, 5], [6, 7, 8]]"
      ]
     },
     "execution_count": 8,
     "metadata": {},
     "output_type": "execute_result"
    }
   ],
   "source": [
    "original_list"
   ]
  },
  {
   "cell_type": "code",
   "execution_count": 17,
   "metadata": {},
   "outputs": [
    {
     "data": {
      "text/plain": [
       "array([[1., 0., 0.],\n",
       "       [0., 1., 0.],\n",
       "       [0., 0., 1.]])"
      ]
     },
     "execution_count": 17,
     "metadata": {},
     "output_type": "execute_result"
    }
   ],
   "source": [
    "# An array of length 10, filled with 0:\n",
    "np.zeros(10, dtype=int)\n",
    "# An array of size 3x5 filled with 1.0 (float)\n",
    "np.ones((3, 5), dtype=float)\n",
    "# An array of size 3x5 filled with 3.14\n",
    "np.full((3, 5), 3.14)\n",
    "# An array containing a linear sequence starting at 0 and \n",
    "# going up to 20, with steps of 2\n",
    "np.arange(0, 20, 2)\n",
    "# An array of 5 numbers, linearly spaced between 0 and 1\n",
    "np.linspace(0, 1, 5)\n",
    "# An array of the given shape and populate it with random\n",
    "# samples. You can also try using \"randint\" and \"normal\"\n",
    "np.random.random((3, 3))\n",
    "# The identity matrix of size 3\n",
    "np.eye(3)"
   ]
  },
  {
   "cell_type": "code",
   "execution_count": 18,
   "metadata": {},
   "outputs": [
    {
     "data": {
      "text/plain": [
       "array([0.  , 0.25, 0.5 , 0.75, 1.  ])"
      ]
     },
     "execution_count": 18,
     "metadata": {},
     "output_type": "execute_result"
    }
   ],
   "source": [
    "np.linspace(0, 1, 5)"
   ]
  },
  {
   "cell_type": "code",
   "execution_count": 19,
   "metadata": {},
   "outputs": [
    {
     "data": {
      "text/plain": [
       "array([[0.7637378 , 0.83932184, 0.12720373],\n",
       "       [0.9396704 , 0.99625493, 0.03695556],\n",
       "       [0.23352571, 0.97654276, 0.48524829]])"
      ]
     },
     "execution_count": 19,
     "metadata": {},
     "output_type": "execute_result"
    }
   ],
   "source": [
    "np.random.random((3, 3))"
   ]
  },
  {
   "cell_type": "code",
   "execution_count": 20,
   "metadata": {},
   "outputs": [
    {
     "data": {
      "text/plain": [
       "array([[1., 0., 0.],\n",
       "       [0., 1., 0.],\n",
       "       [0., 0., 1.]])"
      ]
     },
     "execution_count": 20,
     "metadata": {},
     "output_type": "execute_result"
    }
   ],
   "source": [
    "np.eye(3)"
   ]
  },
  {
   "cell_type": "code",
   "execution_count": null,
   "metadata": {},
   "outputs": [],
   "source": []
  },
  {
   "cell_type": "code",
   "execution_count": 10,
   "metadata": {},
   "outputs": [
    {
     "data": {
      "text/plain": [
       "array([ 0,  2,  4,  6,  8, 10, 12, 14, 16, 18])"
      ]
     },
     "execution_count": 10,
     "metadata": {},
     "output_type": "execute_result"
    }
   ],
   "source": [
    "np.arange(0,20,2)"
   ]
  },
  {
   "cell_type": "code",
   "execution_count": 24,
   "metadata": {},
   "outputs": [
    {
     "name": "stdout",
     "output_type": "stream",
     "text": [
      "Number of dimensions:  1\n",
      "Shape:  (6,)\n",
      "Size:  6\n",
      "Type:  int64\n"
     ]
    }
   ],
   "source": [
    "np.random.seed(0)\n",
    "x1 = np.random.randint(10, size=6)  \n",
    "x1\n",
    "# 1-dimensional array\n",
    "print(\"Number of dimensions: \", x1.ndim)\n",
    "print(\"Shape: \", x1.shape)\n",
    "print(\"Size: \", x1.size)\n",
    "print(\"Type: \", x1.dtype)"
   ]
  },
  {
   "cell_type": "code",
   "execution_count": 26,
   "metadata": {},
   "outputs": [
    {
     "data": {
      "text/plain": [
       "array([5, 0, 3, 3, 7, 9])"
      ]
     },
     "execution_count": 26,
     "metadata": {},
     "output_type": "execute_result"
    }
   ],
   "source": [
    "x1"
   ]
  },
  {
   "cell_type": "code",
   "execution_count": 28,
   "metadata": {},
   "outputs": [
    {
     "name": "stdout",
     "output_type": "stream",
     "text": [
      "[5 3 3 3 7 9]\n",
      "5\n",
      "9\n",
      "1\n",
      "[   5 1000    3    3    7    9]\n",
      "[5 3 3 3 7 9]\n"
     ]
    }
   ],
   "source": [
    "print(x1)\n",
    "# The first element\n",
    "print(x1[0])\n",
    "# The last element\n",
    "print(x1[-1])\n",
    "\n",
    "x2 = np.random.randint(10, size=(3, 4))  \n",
    "# 2-dimensional array\n",
    "print(x2[0,1])\n",
    "\n",
    "# You can also modify values:\n",
    "x1[1] = \"1000\"\n",
    "print(x1)\n",
    "\n",
    "# Mind the type \n",
    "x1[1] = 3.14\n",
    "print(x1)"
   ]
  },
  {
   "cell_type": "code",
   "execution_count": 32,
   "metadata": {},
   "outputs": [
    {
     "data": {
      "text/plain": [
       "array([5, 3, 3, 3, 7, 9])"
      ]
     },
     "execution_count": 32,
     "metadata": {},
     "output_type": "execute_result"
    }
   ],
   "source": [
    "x1"
   ]
  },
  {
   "cell_type": "code",
   "execution_count": 34,
   "metadata": {},
   "outputs": [
    {
     "data": {
      "text/plain": [
       "array([9, 7, 3, 3, 3, 5])"
      ]
     },
     "execution_count": 34,
     "metadata": {},
     "output_type": "execute_result"
    }
   ],
   "source": [
    "x1[::-1]"
   ]
  },
  {
   "cell_type": "code",
   "execution_count": 36,
   "metadata": {},
   "outputs": [
    {
     "data": {
      "text/plain": [
       "array([[1, 2, 3],\n",
       "       [9, 8, 7],\n",
       "       [6, 5, 4]])"
      ]
     },
     "execution_count": 36,
     "metadata": {},
     "output_type": "execute_result"
    }
   ],
   "source": [
    "x = np.array([1, 2, 3])\n",
    "grid = np.array([[9, 8, 7], [6, 5, 4]])\n",
    "np.vstack([x, grid])"
   ]
  },
  {
   "cell_type": "code",
   "execution_count": 39,
   "metadata": {},
   "outputs": [
    {
     "data": {
      "text/plain": [
       "array([1, 2, 3, 1, 2, 3])"
      ]
     },
     "execution_count": 39,
     "metadata": {},
     "output_type": "execute_result"
    }
   ],
   "source": [
    "np.hstack([x, x])"
   ]
  },
  {
   "cell_type": "code",
   "execution_count": 42,
   "metadata": {},
   "outputs": [
    {
     "name": "stdout",
     "output_type": "stream",
     "text": [
      "[0.14285714 1.         0.25       0.5        0.11111111]\n",
      "26.8 s ± 469 ms per loop (mean ± std. dev. of 7 runs, 1 loop each)\n"
     ]
    }
   ],
   "source": [
    "def calculate_inverse(values):    \n",
    "    output = np.empty(len(values))    \n",
    "    for i in range(len(values)):        \n",
    "        output[i] = 1.0 / values[i]    \n",
    "    return output       \n",
    "\n",
    "values = np.random.randint(1, 10, size=5)\n",
    "print(calculate_inverse(values))\n",
    "\n",
    "large_array = np.random.randint(1, 100, size=10000000)\n",
    "\n",
    "# This is a Jupyter notebook tool to measure the execution\n",
    "# time of an instruction\n",
    "%timeit calculate_inverse(large_array)"
   ]
  },
  {
   "cell_type": "code",
   "execution_count": 44,
   "metadata": {},
   "outputs": [
    {
     "name": "stdout",
     "output_type": "stream",
     "text": [
      "43.5 ms ± 641 µs per loop (mean ± std. dev. of 7 runs, 10 loops each)\n"
     ]
    }
   ],
   "source": [
    "%timeit (1.0 / large_array)"
   ]
  },
  {
   "cell_type": "code",
   "execution_count": 46,
   "metadata": {},
   "outputs": [
    {
     "name": "stdout",
     "output_type": "stream",
     "text": [
      "x     = [0 1 2 3]\n",
      "x + 5 = [5 6 7 8]\n",
      "x - 5 = [-5 -4 -3 -2]\n",
      "x * 2 = [0 2 4 6]\n",
      "x / 2 = [0.  0.5 1.  1.5]\n",
      "x // 2 = [0 0 1 1]\n"
     ]
    }
   ],
   "source": [
    "# Simple mathematics first\n",
    "x = np.arange(4)\n",
    "print(\"x     =\", x)\n",
    "print(\"x + 5 =\", x + 5)\n",
    "print(\"x - 5 =\", x - 5)\n",
    "print(\"x * 2 =\", x * 2)\n",
    "print(\"x / 2 =\", x / 2)\n",
    "# Divide and round\n",
    "print(\"x // 2 =\", x // 2)  "
   ]
  },
  {
   "cell_type": "code",
   "execution_count": 48,
   "metadata": {},
   "outputs": [
    {
     "name": "stdout",
     "output_type": "stream",
     "text": [
      "Absolute value:  [2 1 1 2]\n",
      "Exponential:  [0.13533528 0.36787944 2.71828183 7.3890561 ]\n",
      "Logarithm:  [0.69314718 0.         0.         0.69314718]\n"
     ]
    }
   ],
   "source": [
    "#NumPy functions\n",
    "\n",
    "x = [-2, -1, 1, 2]\n",
    "\n",
    "print(\"Absolute value: \", np.abs(x))\n",
    "print(\"Exponential: \", np.exp(x))\n",
    "print(\"Logarithm: \", np.log(np.abs(x)))"
   ]
  },
  {
   "cell_type": "code",
   "execution_count": 49,
   "metadata": {},
   "outputs": [
    {
     "data": {
      "text/plain": [
       "array([[False, False,  True],\n",
       "       [False,  True,  True],\n",
       "       [ True, False,  True]])"
      ]
     },
     "execution_count": 49,
     "metadata": {},
     "output_type": "execute_result"
    }
   ],
   "source": [
    "x = np.random.rand(3,3)\n",
    "x > 0.5"
   ]
  },
  {
   "cell_type": "code",
   "execution_count": 52,
   "metadata": {},
   "outputs": [
    {
     "name": "stdout",
     "output_type": "stream",
     "text": [
      "[[0.08726554 0.15271945 0.7602133 ]\n",
      " [0.39544074 0.84987708 0.55322585]\n",
      " [0.57453392 0.02741157 0.94667587]]\n"
     ]
    },
    {
     "data": {
      "text/plain": [
       "(array([0, 1, 1, 2, 2]), array([2, 1, 2, 0, 2]))"
      ]
     },
     "execution_count": 52,
     "metadata": {},
     "output_type": "execute_result"
    }
   ],
   "source": [
    "#You can couple this capability with  np.where, to return, \n",
    "#among all the elements of an array, the indexes of those \n",
    "#which have a certain property:\n",
    "\n",
    "print(x)\n",
    "np.where(x > 0.5)\n"
   ]
  },
  {
   "cell_type": "code",
   "execution_count": 54,
   "metadata": {},
   "outputs": [
    {
     "data": {
      "text/plain": [
       "52.519144203322995"
      ]
     },
     "execution_count": 54,
     "metadata": {},
     "output_type": "execute_result"
    }
   ],
   "source": [
    "L = np.random.random(100)\n",
    "np.sum(L)"
   ]
  },
  {
   "cell_type": "code",
   "execution_count": 55,
   "metadata": {},
   "outputs": [
    {
     "name": "stdout",
     "output_type": "stream",
     "text": [
      "1.74 s ± 38.3 ms per loop (mean ± std. dev. of 7 runs, 1 loop each)\n"
     ]
    }
   ],
   "source": [
    "%timeit sum(large_array)"
   ]
  },
  {
   "cell_type": "code",
   "execution_count": 57,
   "metadata": {},
   "outputs": [
    {
     "name": "stdout",
     "output_type": "stream",
     "text": [
      "5.51 ms ± 134 µs per loop (mean ± std. dev. of 7 runs, 100 loops each)\n"
     ]
    }
   ],
   "source": [
    "\n",
    "%timeit np.sum(large_array)\n"
   ]
  },
  {
   "cell_type": "code",
   "execution_count": 59,
   "metadata": {},
   "outputs": [
    {
     "name": "stdout",
     "output_type": "stream",
     "text": [
      "[[0.56568047 0.82738261 0.15072872 0.47270518]\n",
      " [0.13023803 0.88017271 0.65464897 0.96873775]\n",
      " [0.56467145 0.74537141 0.50982551 0.70120265]]\n",
      "Sum of all elements of M:  7.1713654570869805\n",
      "Sums of the columns of M:  [1.26058994 2.45292673 1.3152032  2.14264558]\n"
     ]
    }
   ],
   "source": [
    "M = np.random.random((3, 4))\n",
    "print(M)\n",
    "# Note the syntax variable.function instead of \n",
    "# np.fonction(variable). Both are acceptable if\n",
    "# variable is a Numpy array.\n",
    "print(\"Sum of all elements of M: \", M.sum())\n",
    "print(\"Sums of the columns of M: \", M.sum(axis=0))"
   ]
  },
  {
   "cell_type": "code",
   "execution_count": 61,
   "metadata": {},
   "outputs": [
    {
     "data": {
      "text/plain": [
       "'You can create NumPy arrays from a Python List or manually.\\nIndexing is used to access specific elements of an array.\\nSlicing is used to extract a specific subset of a string. \\nNumPy functions include:\\nUniversal functions\\nBoolean operations\\nAggregation\\nBroadcasting'"
      ]
     },
     "execution_count": 61,
     "metadata": {},
     "output_type": "execute_result"
    }
   ],
   "source": [
    "#You can create NumPy arrays from a Python List or manually.\n",
    "#Indexing is used to access specific elements of an array.\n",
    "#Slicing is used to extract a specific subset of a string. \n",
    "#NumPy functions include:\n",
    "#Universal functions\n",
    "#Boolean operations\n",
    "#Aggregation\n",
    "#Broadcasting"
   ]
  },
  {
   "cell_type": "code",
   "execution_count": null,
   "metadata": {},
   "outputs": [],
   "source": []
  }
 ],
 "metadata": {
  "kernelspec": {
   "display_name": "Python 3",
   "language": "python",
   "name": "python3"
  },
  "language_info": {
   "codemirror_mode": {
    "name": "ipython",
    "version": 3
   },
   "file_extension": ".py",
   "mimetype": "text/x-python",
   "name": "python",
   "nbconvert_exporter": "python",
   "pygments_lexer": "ipython3",
   "version": "3.7.4"
  }
 },
 "nbformat": 4,
 "nbformat_minor": 2
}
